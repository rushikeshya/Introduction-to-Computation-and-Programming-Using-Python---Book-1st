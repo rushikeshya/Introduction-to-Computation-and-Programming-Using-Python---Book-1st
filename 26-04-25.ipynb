{
 "cells": [
  {
   "cell_type": "markdown",
   "id": "e673facf",
   "metadata": {},
   "source": [
    "# 26-04-2025-Practice"
   ]
  },
  {
   "cell_type": "markdown",
   "id": "aad368c9",
   "metadata": {},
   "source": [
    "- Write a program that examines three variables—x, y, and z—and \n",
    "prints the largest odd number among them. If none of them are odd, it should \n",
    "print a message to that effect."
   ]
  },
  {
   "cell_type": "code",
   "execution_count": null,
   "id": "532680c9",
   "metadata": {},
   "outputs": [
    {
     "name": "stdout",
     "output_type": "stream",
     "text": [
      "The largest odd number is: 99\n"
     ]
    }
   ],
   "source": [
    "def largest_odd(x, y, z):\n",
    "    # Create a list of odd numbers from the inputs\n",
    "    odd_numbers = [num for num in (x,y,z) if num%2 != 0]\n",
    "\n",
    "    # Check if there which is gretest odd number:\n",
    "    if odd_numbers:\n",
    "        print(f\"The largest odd number is: {max(odd_numbers)}\")\n",
    "    else:\n",
    "        print(\"None of the numbers are odd numbers.\")\n",
    "\n",
    "# Example inputs\n",
    "x = int(input(\"Enter the first number: (x): \")) # 3\n",
    "y = int(input(\"Enter the second number: (y): \")) # 7\n",
    "z = int(input(\"Enter the third number: (z): \")) # 99\n",
    "\n",
    "largest_odd(x,y,z)"
   ]
  },
  {
   "cell_type": "code",
   "execution_count": 7,
   "id": "3e420c2c",
   "metadata": {},
   "outputs": [
    {
     "name": "stdout",
     "output_type": "stream",
     "text": [
      "The largest odd number is: 97\n"
     ]
    }
   ],
   "source": [
    "largest_odd(77,97,2)"
   ]
  },
  {
   "cell_type": "code",
   "execution_count": null,
   "id": "a12f4a53",
   "metadata": {},
   "outputs": [],
   "source": []
  },
  {
   "cell_type": "code",
   "execution_count": null,
   "id": "543e48b4",
   "metadata": {},
   "outputs": [],
   "source": []
  },
  {
   "cell_type": "code",
   "execution_count": null,
   "id": "687e4450",
   "metadata": {},
   "outputs": [],
   "source": []
  }
 ],
 "metadata": {
  "kernelspec": {
   "display_name": "Python 3",
   "language": "python",
   "name": "python3"
  },
  "language_info": {
   "codemirror_mode": {
    "name": "ipython",
    "version": 3
   },
   "file_extension": ".py",
   "mimetype": "text/x-python",
   "name": "python",
   "nbconvert_exporter": "python",
   "pygments_lexer": "ipython3",
   "version": "3.13.2"
  }
 },
 "nbformat": 4,
 "nbformat_minor": 5
}
