{
 "cells": [
  {
   "cell_type": "markdown",
   "id": "e673facf",
   "metadata": {},
   "source": [
    "# 26-04-2025-Practice"
   ]
  },
  {
   "cell_type": "markdown",
   "id": "aad368c9",
   "metadata": {},
   "source": [
    "- Write a program that examines three variables—x, y, and z—and \n",
    "prints the largest odd number among them. If none of them are odd, it should \n",
    "print a message to that effect."
   ]
  },
  {
   "cell_type": "code",
   "execution_count": null,
   "id": "532680c9",
   "metadata": {},
   "outputs": [],
   "source": [
    "def largest_odd(x, y, z):\n",
    "    # Create a list of odd numbers from the inputs\n",
    "    odd_numbers = [num for num in (x,y,z) if num%2 != 0]\n",
    "\n",
    "    # Check if there which is gretest odd number:\n",
    "    if odd_numbers:\n",
    "        print(f\"The largest odd number is: {max(odd_numbers)}\")\n",
    "    else:\n",
    "        print(\"None of the numbers are odd numbers.\")\n",
    "\n",
    "# Example inputs\n",
    "x = int(input(\"Enter the first number: (x): \")) # 3\n",
    "y = int(input(\"Enter the second number: (y): \")) # 7\n",
    "z = int(input(\"Enter the third number: (z): \")) # 99\n",
    "\n",
    "largest_odd(x,y,z)"
   ]
  },
  {
   "cell_type": "code",
   "execution_count": null,
   "id": "3e420c2c",
   "metadata": {},
   "outputs": [],
   "source": [
    "largest_odd(77,97,2)"
   ]
  },
  {
   "cell_type": "markdown",
   "id": "a12f4a53",
   "metadata": {},
   "source": [
    "# 2.3 Strings and Input"
   ]
  },
  {
   "cell_type": "code",
   "execution_count": null,
   "id": "543e48b4",
   "metadata": {},
   "outputs": [],
   "source": [
    "'a'"
   ]
  },
  {
   "cell_type": "code",
   "execution_count": null,
   "id": "687e4450",
   "metadata": {},
   "outputs": [],
   "source": [
    "3*4"
   ]
  },
  {
   "cell_type": "code",
   "execution_count": null,
   "id": "81293812",
   "metadata": {},
   "outputs": [],
   "source": [
    "3*'a'"
   ]
  },
  {
   "cell_type": "code",
   "execution_count": null,
   "id": "8e7bd436",
   "metadata": {},
   "outputs": [],
   "source": [
    "3+4"
   ]
  },
  {
   "cell_type": "code",
   "execution_count": null,
   "id": "a88fe010",
   "metadata": {},
   "outputs": [],
   "source": [
    "'a' + 'a'"
   ]
  },
  {
   "cell_type": "code",
   "execution_count": null,
   "id": "dcaed9d7",
   "metadata": {},
   "outputs": [],
   "source": [
    "a"
   ]
  },
  {
   "cell_type": "code",
   "execution_count": null,
   "id": "2c9cb23a",
   "metadata": {},
   "outputs": [],
   "source": [
    "'a' * 'a'"
   ]
  },
  {
   "cell_type": "code",
   "execution_count": null,
   "id": "f7f21ea5",
   "metadata": {},
   "outputs": [],
   "source": [
    "4 + 'a'"
   ]
  },
  {
   "cell_type": "code",
   "execution_count": null,
   "id": "f33784ca",
   "metadata": {},
   "outputs": [],
   "source": [
    "'4' < 3"
   ]
  },
  {
   "cell_type": "code",
   "execution_count": null,
   "id": "b926218f",
   "metadata": {},
   "outputs": [],
   "source": [
    "print('Mluvíš anglicky?') \n",
    "print('क्या आप अंग्रेज़ी बोलते हैं?') "
   ]
  },
  {
   "cell_type": "markdown",
   "id": "41e66204",
   "metadata": {},
   "source": [
    "# 2.4 Iteration"
   ]
  },
  {
   "cell_type": "code",
   "execution_count": null,
   "id": "69683645",
   "metadata": {},
   "outputs": [],
   "source": [
    "numXs = int(input(\"How many times should I Print the letter X?\"))\n",
    "toPrint = ''\n",
    "if numXs == 1:\n",
    "    toPrint = 'X'\n",
    "elif numXs == 2:\n",
    "    toPrint = 'XX'\n",
    "elif numXs == 3:\n",
    "    toPrint = 'XXX'\n",
    "print(toPrint)"
   ]
  },
  {
   "cell_type": "code",
   "execution_count": null,
   "id": "3bd2fc19",
   "metadata": {},
   "outputs": [],
   "source": [
    "x = 3 \n",
    "ans = 0\n",
    "itersLeft = x\n",
    "while (itersLeft != 0):\n",
    "    ans = ans + x\n",
    "    itersLeft = itersLeft - 1\n",
    "print(str(x) + '*' + str(x) + ' = ' + str(ans))"
   ]
  },
  {
   "cell_type": "code",
   "execution_count": null,
   "id": "a543a14f",
   "metadata": {},
   "outputs": [],
   "source": [
    "numXs = int(input('How many times should I print the letter X? ')) \n",
    "toPrint = '' \n",
    "count = 0\n",
    "while count < numXs:\n",
    "    toPrint += 'X' # Concatenate X to toPrint\n",
    "    count +=1  # Increment the counter\n",
    "print(toPrint) "
   ]
  },
  {
   "cell_type": "code",
   "execution_count": null,
   "id": "a4bfc525",
   "metadata": {},
   "outputs": [],
   "source": [
    "# Find the positive integer that is divisible by both 11 and  12\n",
    "x = 1\n",
    "while True:\n",
    "    if x%11 == 0 and x%12 == 0:\n",
    "        break\n",
    "    x = x + 1\n",
    "print(x,\"is divisible by 11 and 12\")\n"
   ]
  },
  {
   "cell_type": "code",
   "execution_count": null,
   "id": "6c31609e",
   "metadata": {},
   "outputs": [],
   "source": [
    "# Initialize an empty list to store the odd numbers\n",
    "odd_numbers = []\n",
    "\n",
    "# Ask the user to input 10 integers\n",
    "for i in range(10):\n",
    "    num = int(input(f\"Enter integers {i+1} \"))\n",
    "    print(num)\n",
    "    if num % 2 != 0:\n",
    "        odd_numbers.append(num)\n",
    "print(f\"all odd numbers are: {odd_numbers}\")\n",
    "if odd_numbers:\n",
    "    # Find and print the largest odd number\n",
    "    largest_odd = max(odd_numbers)\n",
    "    print(f\"The Largest odd number enterd is : {largest_odd}\")\n",
    "else:\n",
    "    print(\"No odd number was enterd.\")"
   ]
  },
  {
   "cell_type": "markdown",
   "id": "83fc1709",
   "metadata": {},
   "source": [
    "# Chapter 3  - Some Simple Numerical Programs"
   ]
  },
  {
   "cell_type": "code",
   "execution_count": 2,
   "id": "bbe4d003",
   "metadata": {},
   "outputs": [
    {
     "name": "stdout",
     "output_type": "stream",
     "text": [
      "Cube root of 8 is 2\n"
     ]
    }
   ],
   "source": [
    "#Find the cube root of a perfect cube \n",
    "x = int(input('Enter an integer: ')) \n",
    "ans = 0 \n",
    "while ans**3 < abs(x):\n",
    "    ans = ans + 1 \n",
    "\n",
    "if ans**3 != abs(x): \n",
    "    print(x, 'is not a perfect cube') \n",
    "else: \n",
    "    if x < 0: \n",
    "        ans = -ans \n",
    "    print('Cube root of', x,'is', ans) \n"
   ]
  },
  {
   "cell_type": "code",
   "execution_count": 4,
   "id": "7c96ca70",
   "metadata": {},
   "outputs": [
    {
     "name": "stdout",
     "output_type": "stream",
     "text": [
      "25\n"
     ]
    }
   ],
   "source": [
    "maxVal = int(input('Enter a postive integer: ')) \n",
    "i = 0 \n",
    "while i < maxVal: \n",
    "    i = i + 1 \n",
    "print(i) "
   ]
  },
  {
   "cell_type": "code",
   "execution_count": 5,
   "id": "2884ee1c",
   "metadata": {},
   "outputs": [
    {
     "name": "stdout",
     "output_type": "stream",
     "text": [
      "Root: 2 Power: 3\n"
     ]
    }
   ],
   "source": [
    "# Ask user for input\n",
    "x = int(input('Enter an integer: '))\n",
    "\n",
    "# Assume no root and power found yet\n",
    "found = False\n",
    "\n",
    "# Try powers from 2 to 5\n",
    "for pwr in range(2, 6):\n",
    "    root = 0\n",
    "    while root**pwr <= abs(x):\n",
    "        if root**pwr == abs(x):\n",
    "            if x < 0 and pwr % 2 == 1:\n",
    "                root = -root\n",
    "            print('Root:', root, 'Power:', pwr)\n",
    "            found = True\n",
    "            break\n",
    "        root += 1\n",
    "\n",
    "# If no such root and power found\n",
    "if not found:\n",
    "    print('No such pair of integers exists')\n"
   ]
  },
  {
   "cell_type": "code",
   "execution_count": null,
   "id": "0f034ff9",
   "metadata": {},
   "outputs": [],
   "source": []
  }
 ],
 "metadata": {
  "kernelspec": {
   "display_name": "Python 3",
   "language": "python",
   "name": "python3"
  },
  "language_info": {
   "codemirror_mode": {
    "name": "ipython",
    "version": 3
   },
   "file_extension": ".py",
   "mimetype": "text/x-python",
   "name": "python",
   "nbconvert_exporter": "python",
   "pygments_lexer": "ipython3",
   "version": "3.13.2"
  }
 },
 "nbformat": 4,
 "nbformat_minor": 5
}
