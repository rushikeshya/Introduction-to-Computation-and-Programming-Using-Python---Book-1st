{
 "cells": [
  {
   "cell_type": "markdown",
   "id": "e673facf",
   "metadata": {},
   "source": [
    "# 26-04-2025-Practice"
   ]
  },
  {
   "cell_type": "markdown",
   "id": "aad368c9",
   "metadata": {},
   "source": [
    "- Write a program that examines three variables—x, y, and z—and \n",
    "prints the largest odd number among them. If none of them are odd, it should \n",
    "print a message to that effect."
   ]
  },
  {
   "cell_type": "code",
   "execution_count": null,
   "id": "532680c9",
   "metadata": {},
   "outputs": [],
   "source": [
    "def largest_odd(x, y, z):\n",
    "    # Create a list of odd numbers from the inputs\n",
    "    odd_numbers = [num for num in (x,y,z) if num%2 != 0]\n",
    "\n",
    "    # Check if there which is gretest odd number:\n",
    "    if odd_numbers:\n",
    "        print(f\"The largest odd number is: {max(odd_numbers)}\")\n",
    "    else:\n",
    "        print(\"None of the numbers are odd numbers.\")\n",
    "\n",
    "# Example inputs\n",
    "x = int(input(\"Enter the first number: (x): \")) # 3\n",
    "y = int(input(\"Enter the second number: (y): \")) # 7\n",
    "z = int(input(\"Enter the third number: (z): \")) # 99\n",
    "\n",
    "largest_odd(x,y,z)"
   ]
  },
  {
   "cell_type": "code",
   "execution_count": null,
   "id": "3e420c2c",
   "metadata": {},
   "outputs": [],
   "source": [
    "largest_odd(77,97,2)"
   ]
  },
  {
   "cell_type": "markdown",
   "id": "a12f4a53",
   "metadata": {},
   "source": [
    "# 2.3 Strings and Input"
   ]
  },
  {
   "cell_type": "code",
   "execution_count": null,
   "id": "543e48b4",
   "metadata": {},
   "outputs": [],
   "source": [
    "'a'"
   ]
  },
  {
   "cell_type": "code",
   "execution_count": null,
   "id": "687e4450",
   "metadata": {},
   "outputs": [],
   "source": [
    "3*4"
   ]
  },
  {
   "cell_type": "code",
   "execution_count": null,
   "id": "81293812",
   "metadata": {},
   "outputs": [],
   "source": [
    "3*'a'"
   ]
  },
  {
   "cell_type": "code",
   "execution_count": null,
   "id": "8e7bd436",
   "metadata": {},
   "outputs": [],
   "source": [
    "3+4"
   ]
  },
  {
   "cell_type": "code",
   "execution_count": null,
   "id": "a88fe010",
   "metadata": {},
   "outputs": [],
   "source": [
    "'a' + 'a'"
   ]
  },
  {
   "cell_type": "code",
   "execution_count": null,
   "id": "dcaed9d7",
   "metadata": {},
   "outputs": [],
   "source": [
    "a"
   ]
  },
  {
   "cell_type": "code",
   "execution_count": null,
   "id": "2c9cb23a",
   "metadata": {},
   "outputs": [],
   "source": [
    "'a' * 'a'"
   ]
  },
  {
   "cell_type": "code",
   "execution_count": null,
   "id": "f7f21ea5",
   "metadata": {},
   "outputs": [],
   "source": [
    "4 + 'a'"
   ]
  },
  {
   "cell_type": "code",
   "execution_count": null,
   "id": "f33784ca",
   "metadata": {},
   "outputs": [],
   "source": [
    "'4' < 3"
   ]
  },
  {
   "cell_type": "code",
   "execution_count": null,
   "id": "b926218f",
   "metadata": {},
   "outputs": [],
   "source": [
    "print('Mluvíš anglicky?') \n",
    "print('क्या आप अंग्रेज़ी बोलते हैं?') "
   ]
  },
  {
   "cell_type": "markdown",
   "id": "41e66204",
   "metadata": {},
   "source": [
    "# 2.4 Iteration"
   ]
  },
  {
   "cell_type": "code",
   "execution_count": null,
   "id": "69683645",
   "metadata": {},
   "outputs": [],
   "source": [
    "numXs = int(input(\"How many times should I Print the letter X?\"))\n",
    "toPrint = ''\n",
    "if numXs == 1:\n",
    "    toPrint = 'X'\n",
    "elif numXs == 2:\n",
    "    toPrint = 'XX'\n",
    "elif numXs == 3:\n",
    "    toPrint = 'XXX'\n",
    "print(toPrint)"
   ]
  },
  {
   "cell_type": "code",
   "execution_count": null,
   "id": "3bd2fc19",
   "metadata": {},
   "outputs": [],
   "source": [
    "x = 3 \n",
    "ans = 0\n",
    "itersLeft = x\n",
    "while (itersLeft != 0):\n",
    "    ans = ans + x\n",
    "    itersLeft = itersLeft - 1\n",
    "print(str(x) + '*' + str(x) + ' = ' + str(ans))"
   ]
  },
  {
   "cell_type": "code",
   "execution_count": null,
   "id": "a543a14f",
   "metadata": {},
   "outputs": [],
   "source": [
    "numXs = int(input('How many times should I print the letter X? ')) \n",
    "toPrint = '' \n",
    "count = 0\n",
    "while count < numXs:\n",
    "    toPrint += 'X' # Concatenate X to toPrint\n",
    "    count +=1  # Increment the counter\n",
    "print(toPrint) "
   ]
  },
  {
   "cell_type": "code",
   "execution_count": null,
   "id": "a4bfc525",
   "metadata": {},
   "outputs": [],
   "source": [
    "# Find the positive integer that is divisible by both 11 and  12\n",
    "x = 1\n",
    "while True:\n",
    "    if x%11 == 0 and x%12 == 0:\n",
    "        break\n",
    "    x = x + 1\n",
    "print(x,\"is divisible by 11 and 12\")\n"
   ]
  },
  {
   "cell_type": "code",
   "execution_count": null,
   "id": "6c31609e",
   "metadata": {},
   "outputs": [],
   "source": [
    "# Initialize an empty list to store the odd numbers\n",
    "odd_numbers = []\n",
    "\n",
    "# Ask the user to input 10 integers\n",
    "for i in range(10):\n",
    "    num = int(input(f\"Enter integers {i+1} \"))\n",
    "    print(num)\n",
    "    if num % 2 != 0:\n",
    "        odd_numbers.append(num)\n",
    "print(f\"all odd numbers are: {odd_numbers}\")\n",
    "if odd_numbers:\n",
    "    # Find and print the largest odd number\n",
    "    largest_odd = max(odd_numbers)\n",
    "    print(f\"The Largest odd number enterd is : {largest_odd}\")\n",
    "else:\n",
    "    print(\"No odd number was enterd.\")"
   ]
  },
  {
   "cell_type": "markdown",
   "id": "83fc1709",
   "metadata": {},
   "source": [
    "# Chapter 3  - Some Simple Numerical Programs"
   ]
  },
  {
   "cell_type": "code",
   "execution_count": 2,
   "id": "bbe4d003",
   "metadata": {},
   "outputs": [
    {
     "name": "stdout",
     "output_type": "stream",
     "text": [
      "Cube root of 8 is 2\n"
     ]
    }
   ],
   "source": [
    "#Find the cube root of a perfect cube \n",
    "x = int(input('Enter an integer: ')) \n",
    "ans = 0 \n",
    "while ans**3 < abs(x):\n",
    "    ans = ans + 1 \n",
    "\n",
    "if ans**3 != abs(x): \n",
    "    print(x, 'is not a perfect cube') \n",
    "else: \n",
    "    if x < 0: \n",
    "        ans = -ans \n",
    "    print('Cube root of', x,'is', ans) \n"
   ]
  },
  {
   "cell_type": "code",
   "execution_count": 4,
   "id": "7c96ca70",
   "metadata": {},
   "outputs": [
    {
     "name": "stdout",
     "output_type": "stream",
     "text": [
      "25\n"
     ]
    }
   ],
   "source": [
    "maxVal = int(input('Enter a postive integer: ')) \n",
    "i = 0 \n",
    "while i < maxVal: \n",
    "    i = i + 1 \n",
    "print(i) "
   ]
  },
  {
   "cell_type": "code",
   "execution_count": 5,
   "id": "2884ee1c",
   "metadata": {},
   "outputs": [
    {
     "name": "stdout",
     "output_type": "stream",
     "text": [
      "Root: 2 Power: 3\n"
     ]
    }
   ],
   "source": [
    "# Ask user for input\n",
    "x = int(input('Enter an integer: '))\n",
    "\n",
    "# Assume no root and power found yet\n",
    "found = False\n",
    "\n",
    "# Try powers from 2 to 5\n",
    "for pwr in range(2, 6):\n",
    "    root = 0\n",
    "    while root**pwr <= abs(x):\n",
    "        if root**pwr == abs(x):\n",
    "            if x < 0 and pwr % 2 == 1:\n",
    "                root = -root\n",
    "            print('Root:', root, 'Power:', pwr)\n",
    "            found = True\n",
    "            break\n",
    "        root += 1\n",
    "\n",
    "# If no such root and power found\n",
    "if not found:\n",
    "    print('No such pair of integers exists')\n"
   ]
  },
  {
   "cell_type": "markdown",
   "id": "0f034ff9",
   "metadata": {},
   "source": [
    "# Practice - 01-05-2025"
   ]
  },
  {
   "cell_type": "code",
   "execution_count": 1,
   "id": "96b747d8",
   "metadata": {},
   "outputs": [
    {
     "name": "stdout",
     "output_type": "stream",
     "text": [
      "0\n",
      "1\n",
      "2\n",
      "3\n"
     ]
    }
   ],
   "source": [
    "x = 4\n",
    "for i in range(0, x):\n",
    "    print(i)\n"
   ]
  },
  {
   "cell_type": "code",
   "execution_count": 2,
   "id": "6105901c",
   "metadata": {},
   "outputs": [
    {
     "name": "stdout",
     "output_type": "stream",
     "text": [
      "0\n",
      "1\n",
      "2\n",
      "3\n"
     ]
    }
   ],
   "source": [
    "x = 4\n",
    "for i in range(0,x):\n",
    "    print(i)\n",
    "    x=5"
   ]
  },
  {
   "cell_type": "code",
   "execution_count": 3,
   "id": "a473551a",
   "metadata": {},
   "outputs": [
    {
     "name": "stdout",
     "output_type": "stream",
     "text": [
      "0\n",
      "1\n",
      "2\n",
      "3\n",
      "0\n",
      "1\n",
      "0\n",
      "1\n",
      "0\n",
      "1\n"
     ]
    }
   ],
   "source": [
    "x = 4\n",
    "for j in range(x):\n",
    "    for i in range(x):\n",
    "        print(i)\n",
    "        x = 2"
   ]
  },
  {
   "cell_type": "code",
   "execution_count": 7,
   "id": "9ec1166f",
   "metadata": {},
   "outputs": [
    {
     "name": "stdout",
     "output_type": "stream",
     "text": [
      "Cube root of 8 is 2\n"
     ]
    }
   ],
   "source": [
    "# Find the cube root of a perfect cube\n",
    "x = int(input('Enter an integer: '))\n",
    "for ans in range(0, abs(x)+1):\n",
    "    if ans**3 >= abs(x):\n",
    "        break\n",
    "if ans**3 != abs(x):\n",
    "    print(x, 'is not a perfect cube')\n",
    "else:\n",
    "    if x < 0:\n",
    "        ans = -ans\n",
    "    print('Cube root of', x, 'is', ans)"
   ]
  },
  {
   "cell_type": "markdown",
   "id": "b53a1a45",
   "metadata": {},
   "source": [
    "#### Finding Square root"
   ]
  },
  {
   "cell_type": "code",
   "execution_count": 10,
   "id": "e4887b5e",
   "metadata": {},
   "outputs": [
    {
     "name": "stdout",
     "output_type": "stream",
     "text": [
      "Square root of 4 is 2\n"
     ]
    }
   ],
   "source": [
    "num = int(input(\"Enter an integer: \"))\n",
    "for i in range(0,abs(num+1)):\n",
    "    if ans**2 >= abs(num):\n",
    "        break\n",
    "if ans**2 != abs(num):\n",
    "    print(num, 'is not a perfect square.')\n",
    "else:\n",
    "    if x < 0:\n",
    "        ans = -ans\n",
    "    print('Square root of', num, 'is', ans) "
   ]
  },
  {
   "cell_type": "code",
   "execution_count": 11,
   "id": "95940ec0",
   "metadata": {},
   "outputs": [
    {
     "name": "stdout",
     "output_type": "stream",
     "text": [
      "36\n"
     ]
    }
   ],
   "source": [
    "total = 0\n",
    "for c in '12345678':\n",
    "    total = total + int(c)\n",
    "print(total)"
   ]
  },
  {
   "cell_type": "markdown",
   "id": "d62e407a",
   "metadata": {},
   "source": [
    "```bash\n",
    "Fingure Excersise - \n",
    "```\n",
    "Let s be a string that contains a sequence of decimal numbers separated by commas, e.g., s = '1.23,2.4,3.123'. Write a program that prints the \n",
    "sum of the numbers in s."
   ]
  },
  {
   "cell_type": "code",
   "execution_count": 15,
   "id": "08c7918f",
   "metadata": {},
   "outputs": [
    {
     "name": "stdout",
     "output_type": "stream",
     "text": [
      "6.753\n"
     ]
    }
   ],
   "source": [
    "s = '1.23,2.4,3.123'\n",
    "numbers = s.split(',')\n",
    "total_sums = 0.0\n",
    "\n",
    "for num in numbers:\n",
    "    total_sums += float(num)\n",
    "print(total_sums)"
   ]
  },
  {
   "cell_type": "markdown",
   "id": "5e3d03dc",
   "metadata": {},
   "source": [
    "# 3.3 Approximate Solution and Bisection Search"
   ]
  },
  {
   "cell_type": "code",
   "execution_count": 1,
   "id": "a12e69f8",
   "metadata": {},
   "outputs": [
    {
     "name": "stdout",
     "output_type": "stream",
     "text": [
      "numGuesses =  49990\n",
      "4.999000000001688 is close to square tooy of 25\n"
     ]
    }
   ],
   "source": [
    "x = 25\n",
    "epsilon = 0.01\n",
    "step = epsilon**2\n",
    "numGuesses  = 0\n",
    "ans = 0.0\n",
    "while abs(ans**2 - x) >= epsilon and ans <= x:\n",
    "    ans += step\n",
    "    numGuesses += 1\n",
    "print('numGuesses = ', numGuesses)\n",
    "if abs(ans**2 - x) >= epsilon:\n",
    "    print('Failed on square root of ', x)\n",
    "else:\n",
    "    print(ans, 'is close to square tooy of',x)"
   ]
  },
  {
   "cell_type": "code",
   "execution_count": 5,
   "id": "2fd3c8a4",
   "metadata": {},
   "outputs": [
    {
     "name": "stdout",
     "output_type": "stream",
     "text": [
      "numGuesses =  1111081\n",
      "111.10810000256487 is close to square tooy of 12345\n"
     ]
    }
   ],
   "source": [
    "x =12345\n",
    "epsilon = 0.01\n",
    "step = epsilon**2\n",
    "numGuesses  = 0\n",
    "ans = 0.0\n",
    "while abs(ans**2 - x) >= epsilon and ans <= x:\n",
    "    ans += step\n",
    "    numGuesses += 1\n",
    "print('numGuesses = ', numGuesses)\n",
    "if abs(ans**2 - x) >= epsilon:\n",
    "    print('Failed on square root of ', x)\n",
    "else:\n",
    "    print(ans, 'is close to square tooy of',x)"
   ]
  },
  {
   "cell_type": "markdown",
   "id": "37ad7396",
   "metadata": {},
   "source": [
    "# Using bisection search to approximate square root "
   ]
  },
  {
   "cell_type": "code",
   "execution_count": null,
   "id": "605df9e1",
   "metadata": {},
   "outputs": [
    {
     "name": "stdout",
     "output_type": "stream",
     "text": [
      "low= 0.0 high= 25 ans= 12.5\n",
      "low= 0.0 high= 12.5 ans= 6.25\n",
      "low= 0.0 high= 6.25 ans= 3.125\n",
      "low= 3.125 high= 6.25 ans= 4.6875\n",
      "low= 4.6875 high= 6.25 ans= 5.46875\n",
      "low= 4.6875 high= 5.46875 ans= 5.078125\n",
      "low= 4.6875 high= 5.078125 ans= 4.8828125\n",
      "low= 4.8828125 high= 5.078125 ans= 4.98046875\n",
      "low= 4.98046875 high= 5.078125 ans= 5.029296875\n",
      "low= 4.98046875 high= 5.029296875 ans= 5.0048828125\n",
      "low= 4.98046875 high= 5.0048828125 ans= 4.99267578125\n",
      "low= 4.99267578125 high= 5.0048828125 ans= 4.998779296875\n",
      "low= 4.998779296875 high= 5.0048828125 ans= 5.0018310546875\n",
      "numGuesses =  13\n",
      "5.00030517578125 is close to square root of  25\n"
     ]
    }
   ],
   "source": [
    "x = 25\n",
    "epsilon = 0.01\n",
    "numGuesses = 0\n",
    "low = 0.0\n",
    "high = max(1.0, x)\n",
    "ans = (high + low)/2.0\n",
    "while abs(ans**2 -x) >= epsilon:  # The algorithm stops when the difference between the square of ans and x is less than epsilon\n",
    "    print('low=', low, 'high=', high, 'ans=',ans)\n",
    "    numGuesses += 1\n",
    "    if ans**2 < x:\n",
    "        low = ans\n",
    "    else:\n",
    "        high = ans\n",
    "    ans = (high + low)/2.0\n",
    "print('numGuesses = ', numGuesses)\n",
    "print(ans, 'is close to square root of ', x)\n"
   ]
  },
  {
   "cell_type": "code",
   "execution_count": 1,
   "id": "4cd01c85",
   "metadata": {},
   "outputs": [
    {
     "name": "stdout",
     "output_type": "stream",
     "text": [
      "low= 0.0 high= 123456 ans= 61728.0\n",
      "low= 0.0 high= 61728.0 ans= 30864.0\n",
      "low= 0.0 high= 30864.0 ans= 15432.0\n",
      "low= 0.0 high= 15432.0 ans= 7716.0\n",
      "low= 0.0 high= 7716.0 ans= 3858.0\n",
      "low= 0.0 high= 3858.0 ans= 1929.0\n",
      "low= 0.0 high= 1929.0 ans= 964.5\n",
      "low= 0.0 high= 964.5 ans= 482.25\n",
      "low= 0.0 high= 482.25 ans= 241.125\n",
      "low= 241.125 high= 482.25 ans= 361.6875\n",
      "low= 241.125 high= 361.6875 ans= 301.40625\n",
      "low= 301.40625 high= 361.6875 ans= 331.546875\n",
      "low= 331.546875 high= 361.6875 ans= 346.6171875\n",
      "low= 346.6171875 high= 361.6875 ans= 354.15234375\n",
      "low= 346.6171875 high= 354.15234375 ans= 350.384765625\n",
      "low= 350.384765625 high= 354.15234375 ans= 352.2685546875\n",
      "low= 350.384765625 high= 352.2685546875 ans= 351.32666015625\n",
      "low= 351.32666015625 high= 352.2685546875 ans= 351.797607421875\n",
      "low= 351.32666015625 high= 351.797607421875 ans= 351.5621337890625\n",
      "low= 351.32666015625 high= 351.5621337890625 ans= 351.44439697265625\n",
      "low= 351.32666015625 high= 351.44439697265625 ans= 351.3855285644531\n",
      "low= 351.32666015625 high= 351.3855285644531 ans= 351.35609436035156\n",
      "low= 351.35609436035156 high= 351.3855285644531 ans= 351.37081146240234\n",
      "low= 351.35609436035156 high= 351.37081146240234 ans= 351.36345291137695\n",
      "low= 351.35609436035156 high= 351.36345291137695 ans= 351.35977363586426\n",
      "low= 351.35977363586426 high= 351.36345291137695 ans= 351.3616132736206\n",
      "low= 351.3616132736206 high= 351.36345291137695 ans= 351.3625330924988\n",
      "low= 351.3625330924988 high= 351.36345291137695 ans= 351.36299300193787\n",
      "low= 351.36299300193787 high= 351.36345291137695 ans= 351.3632229566574\n",
      "low= 351.36299300193787 high= 351.3632229566574 ans= 351.36310797929764\n",
      "numGuesses =  30\n",
      "351.36305049061775 is close to square root of  123456\n"
     ]
    }
   ],
   "source": [
    "x = 123456\n",
    "epsilon = 0.01\n",
    "numGuesses = 0\n",
    "low = 0.0\n",
    "high = max(1.0, x)\n",
    "ans = (high + low)/2.0\n",
    "while abs(ans**2 -x) >= epsilon:  # The algorithm stops when the difference between the square of ans and x is less than epsilon\n",
    "    print('low=', low, 'high=', high, 'ans=',ans)\n",
    "    numGuesses += 1\n",
    "    if ans**2 < x:\n",
    "        low = ans\n",
    "    else:\n",
    "        high = ans\n",
    "    ans = (high + low)/2.0\n",
    "print('numGuesses = ', numGuesses)\n",
    "print(ans, 'is close to square root of ', x)\n"
   ]
  },
  {
   "cell_type": "code",
   "execution_count": 2,
   "id": "768399e7",
   "metadata": {},
   "outputs": [
    {
     "name": "stdout",
     "output_type": "stream",
     "text": [
      "low= 0.0 high= 123456789 ans= 61728394.5\n",
      "low= 0.0 high= 61728394.5 ans= 30864197.25\n",
      "low= 0.0 high= 30864197.25 ans= 15432098.625\n",
      "low= 0.0 high= 15432098.625 ans= 7716049.3125\n",
      "low= 0.0 high= 7716049.3125 ans= 3858024.65625\n",
      "low= 0.0 high= 3858024.65625 ans= 1929012.328125\n",
      "low= 0.0 high= 1929012.328125 ans= 964506.1640625\n",
      "low= 0.0 high= 964506.1640625 ans= 482253.08203125\n",
      "low= 0.0 high= 482253.08203125 ans= 241126.541015625\n",
      "low= 0.0 high= 241126.541015625 ans= 120563.2705078125\n",
      "low= 0.0 high= 120563.2705078125 ans= 60281.63525390625\n",
      "low= 0.0 high= 60281.63525390625 ans= 30140.817626953125\n",
      "low= 0.0 high= 30140.817626953125 ans= 15070.408813476562\n",
      "low= 0.0 high= 15070.408813476562 ans= 7535.204406738281\n",
      "low= 7535.204406738281 high= 15070.408813476562 ans= 11302.806610107422\n",
      "low= 7535.204406738281 high= 11302.806610107422 ans= 9419.005508422852\n",
      "low= 9419.005508422852 high= 11302.806610107422 ans= 10360.906059265137\n",
      "low= 10360.906059265137 high= 11302.806610107422 ans= 10831.85633468628\n",
      "low= 10831.85633468628 high= 11302.806610107422 ans= 11067.33147239685\n",
      "low= 11067.33147239685 high= 11302.806610107422 ans= 11185.069041252136\n",
      "low= 11067.33147239685 high= 11185.069041252136 ans= 11126.200256824493\n",
      "low= 11067.33147239685 high= 11126.200256824493 ans= 11096.765864610672\n",
      "low= 11096.765864610672 high= 11126.200256824493 ans= 11111.483060717583\n",
      "low= 11096.765864610672 high= 11111.483060717583 ans= 11104.124462664127\n",
      "low= 11104.124462664127 high= 11111.483060717583 ans= 11107.803761690855\n",
      "low= 11107.803761690855 high= 11111.483060717583 ans= 11109.643411204219\n",
      "low= 11109.643411204219 high= 11111.483060717583 ans= 11110.5632359609\n",
      "low= 11110.5632359609 high= 11111.483060717583 ans= 11111.023148339242\n",
      "low= 11111.023148339242 high= 11111.483060717583 ans= 11111.253104528412\n",
      "low= 11111.023148339242 high= 11111.253104528412 ans= 11111.138126433827\n",
      "low= 11111.023148339242 high= 11111.138126433827 ans= 11111.080637386534\n",
      "low= 11111.080637386534 high= 11111.138126433827 ans= 11111.10938191018\n",
      "low= 11111.10938191018 high= 11111.138126433827 ans= 11111.123754172004\n",
      "low= 11111.10938191018 high= 11111.123754172004 ans= 11111.116568041092\n",
      "low= 11111.10938191018 high= 11111.116568041092 ans= 11111.112974975636\n",
      "low= 11111.10938191018 high= 11111.112974975636 ans= 11111.111178442909\n",
      "low= 11111.10938191018 high= 11111.111178442909 ans= 11111.110280176545\n",
      "low= 11111.110280176545 high= 11111.111178442909 ans= 11111.110729309727\n",
      "low= 11111.110729309727 high= 11111.111178442909 ans= 11111.110953876318\n",
      "low= 11111.110953876318 high= 11111.111178442909 ans= 11111.111066159614\n",
      "low= 11111.110953876318 high= 11111.111066159614 ans= 11111.111010017965\n",
      "low= 11111.111010017965 high= 11111.111066159614 ans= 11111.11103808879\n",
      "low= 11111.11103808879 high= 11111.111066159614 ans= 11111.1110521242\n",
      "low= 11111.1110521242 high= 11111.111066159614 ans= 11111.111059141907\n",
      "low= 11111.111059141907 high= 11111.111066159614 ans= 11111.111062650762\n",
      "numGuesses =  45\n",
      "11111.111060896335 is close to square root of  123456789\n"
     ]
    }
   ],
   "source": [
    "x = 123456789\n",
    "epsilon = 0.01\n",
    "numGuesses = 0\n",
    "low = 0.0\n",
    "high = max(1.0, x)\n",
    "ans = (high + low)/2.0\n",
    "while abs(ans**2 -x) >= epsilon:  # The algorithm stops when the difference between the square of ans and x is less than epsilon\n",
    "    print('low=', low, 'high=', high, 'ans=',ans)\n",
    "    numGuesses += 1\n",
    "    if ans**2 < x:\n",
    "        low = ans\n",
    "    else:\n",
    "        high = ans\n",
    "    ans = (high + low)/2.0\n",
    "print('numGuesses = ', numGuesses)\n",
    "print(ans, 'is close to square root of ', x)\n"
   ]
  },
  {
   "cell_type": "markdown",
   "id": "d984e290",
   "metadata": {},
   "source": [
    "#### For Negative"
   ]
  },
  {
   "cell_type": "code",
   "execution_count": 3,
   "id": "e17db427",
   "metadata": {},
   "outputs": [
    {
     "name": "stdout",
     "output_type": "stream",
     "text": [
      "numGuesses = 14\n",
      "-2.92364501953125 is close to the cube root of -25\n"
     ]
    }
   ],
   "source": [
    "x = -25  # Change to any number, positive or negative\n",
    "epsilon = 0.01\n",
    "numGuesses = 0\n",
    "low = min(0.0, x)  # Adjusted for negative numbers\n",
    "high = max(1.0, x)\n",
    "ans = (high + low) / 2.0\n",
    "\n",
    "while abs(ans**3 - x) >= epsilon:\n",
    "    numGuesses += 1\n",
    "    if ans**3 < x:\n",
    "        low = ans\n",
    "    else:\n",
    "        high = ans\n",
    "    ans = (high + low) / 2.0\n",
    "\n",
    "print('numGuesses =', numGuesses)\n",
    "print(ans, 'is close to the cube root of', x)\n"
   ]
  },
  {
   "cell_type": "code",
   "execution_count": null,
   "id": "74c6638e",
   "metadata": {},
   "outputs": [],
   "source": []
  },
  {
   "cell_type": "code",
   "execution_count": 4,
   "id": "a9938e62",
   "metadata": {},
   "outputs": [
    {
     "name": "stdout",
     "output_type": "stream",
     "text": [
      "numGuesses = 14\n",
      "-2.92364501953125 is close to the cube root of -25\n"
     ]
    }
   ],
   "source": [
    "x = -25  # Change to any number, positive or negative\n",
    "epsilon = 0.01\n",
    "numGuesses = 0\n",
    "low = min(0.0, x)  # Adjusted for negative numbers\n",
    "high = max(1.0, x)\n",
    "ans = (high + low) / 2.0\n",
    "\n",
    "while abs(ans**3 - x) >= epsilon:\n",
    "    numGuesses += 1\n",
    "    if ans**3 < x:\n",
    "        low = ans\n",
    "    else:\n",
    "        high = ans\n",
    "    ans = (high + low) / 2.0\n",
    "\n",
    "print('numGuesses =', numGuesses)\n",
    "print(ans, 'is close to the cube root of', x)\n"
   ]
  },
  {
   "cell_type": "code",
   "execution_count": null,
   "id": "d11c3b5f",
   "metadata": {},
   "outputs": [],
   "source": []
  },
  {
   "cell_type": "code",
   "execution_count": null,
   "id": "8cbaf342",
   "metadata": {},
   "outputs": [],
   "source": []
  },
  {
   "cell_type": "code",
   "execution_count": null,
   "id": "114e6571",
   "metadata": {},
   "outputs": [],
   "source": []
  },
  {
   "cell_type": "code",
   "execution_count": null,
   "id": "e19981c6",
   "metadata": {},
   "outputs": [],
   "source": []
  }
 ],
 "metadata": {
  "kernelspec": {
   "display_name": "Python 3",
   "language": "python",
   "name": "python3"
  },
  "language_info": {
   "codemirror_mode": {
    "name": "ipython",
    "version": 3
   },
   "file_extension": ".py",
   "mimetype": "text/x-python",
   "name": "python",
   "nbconvert_exporter": "python",
   "pygments_lexer": "ipython3",
   "version": "3.13.2"
  }
 },
 "nbformat": 4,
 "nbformat_minor": 5
}
